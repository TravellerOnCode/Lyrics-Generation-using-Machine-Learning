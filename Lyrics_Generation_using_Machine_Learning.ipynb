{
  "nbformat": 4,
  "nbformat_minor": 0,
  "metadata": {
    "colab": {
      "name": "Lyrics Generation using Machine Learning.ipynb",
      "provenance": [],
      "toc_visible": true,
      "authorship_tag": "ABX9TyOXcXvpKQX5futQHV3AahWD"
    },
    "kernelspec": {
      "name": "python3",
      "display_name": "Python 3"
    },
    "accelerator": "GPU"
  },
  "cells": [
    {
      "cell_type": "code",
      "metadata": {
        "id": "groxrQABst-2"
      },
      "source": [
        ""
      ],
      "execution_count": null,
      "outputs": []
    },
    {
      "cell_type": "code",
      "metadata": {
        "id": "xKi02ADevV1Z"
      },
      "source": [
        ""
      ],
      "execution_count": null,
      "outputs": []
    },
    {
      "cell_type": "markdown",
      "metadata": {
        "id": "a4kyBKA1vWKl"
      },
      "source": [
        "# Load the Dataset\n"
      ]
    },
    {
      "cell_type": "code",
      "metadata": {
        "colab": {
          "base_uri": "https://localhost:8080/",
          "height": 142
        },
        "id": "0AV5mQ-SvaCN",
        "outputId": "8526c57f-f094-46e6-b6b3-f69dcaa4c0a9"
      },
      "source": [
        "import requests, zipfile, io\n",
        "import pandas as pd\n",
        "pd.options.mode.chained_assignment = None\n",
        "\n",
        "#the csv is stored in a github repo\n",
        "r = requests.get( \"https://github.com/TravellerOnCode/Lyrics-Generation-using-Machine-Learning/blob/main/data/train_1000.csv?raw=true\" ) \n",
        "df_train = pd.read_csv(io.BytesIO(r.content))\n",
        "df_train.head(3)"
      ],
      "execution_count": 1,
      "outputs": [
        {
          "output_type": "execute_result",
          "data": {
            "text/html": [
              "<div>\n",
              "<style scoped>\n",
              "    .dataframe tbody tr th:only-of-type {\n",
              "        vertical-align: middle;\n",
              "    }\n",
              "\n",
              "    .dataframe tbody tr th {\n",
              "        vertical-align: top;\n",
              "    }\n",
              "\n",
              "    .dataframe thead th {\n",
              "        text-align: right;\n",
              "    }\n",
              "</style>\n",
              "<table border=\"1\" class=\"dataframe\">\n",
              "  <thead>\n",
              "    <tr style=\"text-align: right;\">\n",
              "      <th></th>\n",
              "      <th>file</th>\n",
              "      <th>artist</th>\n",
              "      <th>title</th>\n",
              "      <th>lyrics</th>\n",
              "      <th>genre</th>\n",
              "      <th>mood</th>\n",
              "      <th>year</th>\n",
              "    </tr>\n",
              "  </thead>\n",
              "  <tbody>\n",
              "    <tr>\n",
              "      <th>0</th>\n",
              "      <td>TRAAAAW128F429D538.h5</td>\n",
              "      <td>Casual</td>\n",
              "      <td>I Didn't Mean To</td>\n",
              "      <td>Verse One:\\n\\nAlright I might\\nHave had a litt...</td>\n",
              "      <td>Hip Hop/Rap</td>\n",
              "      <td>sad</td>\n",
              "      <td>1994</td>\n",
              "    </tr>\n",
              "    <tr>\n",
              "      <th>1</th>\n",
              "      <td>TRAAAEF128F4273421.h5</td>\n",
              "      <td>Adam Ant</td>\n",
              "      <td>Something Girls</td>\n",
              "      <td>Adam Ant/Marco Pirroni\\nEvery girl is a someth...</td>\n",
              "      <td>Rock</td>\n",
              "      <td>happy</td>\n",
              "      <td>1982</td>\n",
              "    </tr>\n",
              "    <tr>\n",
              "      <th>2</th>\n",
              "      <td>TRAAAFD128F92F423A.h5</td>\n",
              "      <td>Gob</td>\n",
              "      <td>Face the Ashes</td>\n",
              "      <td>I've just erased it's been a while, I've got a...</td>\n",
              "      <td>Rock</td>\n",
              "      <td>sad</td>\n",
              "      <td>2007</td>\n",
              "    </tr>\n",
              "  </tbody>\n",
              "</table>\n",
              "</div>"
            ],
            "text/plain": [
              "                    file    artist             title  ...        genre   mood  year\n",
              "0  TRAAAAW128F429D538.h5    Casual  I Didn't Mean To  ...  Hip Hop/Rap    sad  1994\n",
              "1  TRAAAEF128F4273421.h5  Adam Ant   Something Girls  ...         Rock  happy  1982\n",
              "2  TRAAAFD128F92F423A.h5       Gob    Face the Ashes  ...         Rock    sad  2007\n",
              "\n",
              "[3 rows x 7 columns]"
            ]
          },
          "metadata": {
            "tags": []
          },
          "execution_count": 1
        }
      ]
    },
    {
      "cell_type": "code",
      "metadata": {
        "colab": {
          "base_uri": "https://localhost:8080/",
          "height": 193
        },
        "id": "Ii7oTrrzvyCx",
        "outputId": "13617f58-652a-47d0-f864-5587cd49acbd"
      },
      "source": [
        "#the csv is stored in a github repo\n",
        "r = requests.get( \"https://github.com/TravellerOnCode/Lyrics-Generation-using-Machine-Learning/blob/main/data/valid_200.csv?raw=true\" ) \n",
        "df_valid = pd.read_csv(io.BytesIO(r.content))\n",
        "df_valid.head(3)"
      ],
      "execution_count": 2,
      "outputs": [
        {
          "output_type": "execute_result",
          "data": {
            "text/html": [
              "<div>\n",
              "<style scoped>\n",
              "    .dataframe tbody tr th:only-of-type {\n",
              "        vertical-align: middle;\n",
              "    }\n",
              "\n",
              "    .dataframe tbody tr th {\n",
              "        vertical-align: top;\n",
              "    }\n",
              "\n",
              "    .dataframe thead th {\n",
              "        text-align: right;\n",
              "    }\n",
              "</style>\n",
              "<table border=\"1\" class=\"dataframe\">\n",
              "  <thead>\n",
              "    <tr style=\"text-align: right;\">\n",
              "      <th></th>\n",
              "      <th>file</th>\n",
              "      <th>artist</th>\n",
              "      <th>title</th>\n",
              "      <th>genre</th>\n",
              "      <th>lyrics</th>\n",
              "      <th>mood</th>\n",
              "    </tr>\n",
              "  </thead>\n",
              "  <tbody>\n",
              "    <tr>\n",
              "      <th>0</th>\n",
              "      <td>TRAFAIB128F426E636.h5</td>\n",
              "      <td>Placebo</td>\n",
              "      <td>Where Is My Mind (XFM Live Version)</td>\n",
              "      <td>Pop</td>\n",
              "      <td>Ooooohh\\nOoooohh\\nOoooohh\\nOoooohh\\n\\nWith you...</td>\n",
              "      <td>happy</td>\n",
              "    </tr>\n",
              "    <tr>\n",
              "      <th>1</th>\n",
              "      <td>TRAFAJC128E078888B.h5</td>\n",
              "      <td>Queens Of The Stone Age</td>\n",
              "      <td>This Lullaby</td>\n",
              "      <td>Rock</td>\n",
              "      <td>Where, oh, where have you been, my love?\\nWher...</td>\n",
              "      <td>sad</td>\n",
              "    </tr>\n",
              "    <tr>\n",
              "      <th>2</th>\n",
              "      <td>TRAFBBP128F92F6CC9.h5</td>\n",
              "      <td>MC5</td>\n",
              "      <td>Looking At You (Cody High School)</td>\n",
              "      <td>Rock</td>\n",
              "      <td>When it happened \\nsomething snapped inside \\n...</td>\n",
              "      <td>happy</td>\n",
              "    </tr>\n",
              "  </tbody>\n",
              "</table>\n",
              "</div>"
            ],
            "text/plain": [
              "                    file  ...   mood\n",
              "0  TRAFAIB128F426E636.h5  ...  happy\n",
              "1  TRAFAJC128E078888B.h5  ...    sad\n",
              "2  TRAFBBP128F92F6CC9.h5  ...  happy\n",
              "\n",
              "[3 rows x 6 columns]"
            ]
          },
          "metadata": {
            "tags": []
          },
          "execution_count": 2
        }
      ]
    },
    {
      "cell_type": "code",
      "metadata": {
        "id": "8Dw7q2kBwEMq"
      },
      "source": [
        ""
      ],
      "execution_count": null,
      "outputs": []
    },
    {
      "cell_type": "markdown",
      "metadata": {
        "id": "6MJbnCnDwEnj"
      },
      "source": [
        "# EDA "
      ]
    },
    {
      "cell_type": "code",
      "metadata": {
        "id": "jZAJJf3qwFmU"
      },
      "source": [
        "# Import libraries \n",
        "from matplotlib import pyplot as plt \n",
        "import numpy as np "
      ],
      "execution_count": 3,
      "outputs": []
    },
    {
      "cell_type": "markdown",
      "metadata": {
        "id": "lBu8Xq8gzLNC"
      },
      "source": [
        "Genres"
      ]
    },
    {
      "cell_type": "code",
      "metadata": {
        "colab": {
          "base_uri": "https://localhost:8080/",
          "height": 334
        },
        "id": "pRD2FRiIwGGs",
        "outputId": "d564a4a2-d979-4822-a139-57795cfbd89d"
      },
      "source": [
        "df_train['genre'].value_counts().plot(kind='bar')"
      ],
      "execution_count": 4,
      "outputs": [
        {
          "output_type": "execute_result",
          "data": {
            "text/plain": [
              "<matplotlib.axes._subplots.AxesSubplot at 0x7fedac844710>"
            ]
          },
          "metadata": {
            "tags": []
          },
          "execution_count": 4
        },
        {
          "output_type": "display_data",
          "data": {
            "image/png": "[encoded data removed]",
            "text/plain": [
              "<Figure size 432x288 with 1 Axes>"
            ]
          },
          "metadata": {
            "tags": [],
            "needs_background": "light"
          }
        }
      ]
    },
    {
      "cell_type": "code",
      "metadata": {
        "colab": {
          "base_uri": "https://localhost:8080/",
          "height": 334
        },
        "id": "ESL_Jqt5wGM8",
        "outputId": "c6d2648f-92b1-46bd-9179-27921455de8b"
      },
      "source": [
        "df_valid['genre'].value_counts().plot(kind='bar')"
      ],
      "execution_count": 5,
      "outputs": [
        {
          "output_type": "execute_result",
          "data": {
            "text/plain": [
              "<matplotlib.axes._subplots.AxesSubplot at 0x7fedac741490>"
            ]
          },
          "metadata": {
            "tags": []
          },
          "execution_count": 5
        },
        {
          "output_type": "display_data",
          "data": {
            "image/png": "[encoded data removed]",
            "text/plain": [
              "<Figure size 432x288 with 1 Axes>"
            ]
          },
          "metadata": {
            "tags": [],
            "needs_background": "light"
          }
        }
      ]
    },
    {
      "cell_type": "markdown",
      "metadata": {
        "id": "_OX_q-HVzN3q"
      },
      "source": [
        "Mood"
      ]
    },
    {
      "cell_type": "code",
      "metadata": {
        "colab": {
          "base_uri": "https://localhost:8080/",
          "height": 303
        },
        "id": "vetAMDF4zPBd",
        "outputId": "5ecae20b-5e34-4b7f-be45-83f16bc3853d"
      },
      "source": [
        "df_train['mood'].value_counts().plot(kind='bar')"
      ],
      "execution_count": 6,
      "outputs": [
        {
          "output_type": "execute_result",
          "data": {
            "text/plain": [
              "<matplotlib.axes._subplots.AxesSubplot at 0x7fedac21d850>"
            ]
          },
          "metadata": {
            "tags": []
          },
          "execution_count": 6
        },
        {
          "output_type": "display_data",
          "data": {
            "image/png": "[encoded data removed]",
            "text/plain": [
              "<Figure size 432x288 with 1 Axes>"
            ]
          },
          "metadata": {
            "tags": [],
            "needs_background": "light"
          }
        }
      ]
    },
    {
      "cell_type": "code",
      "metadata": {
        "colab": {
          "base_uri": "https://localhost:8080/",
          "height": 303
        },
        "id": "DGE8IaWLzPKm",
        "outputId": "48c8f057-f4de-4566-fafd-4d6e6adbf698"
      },
      "source": [
        "df_valid['mood'].value_counts().plot(kind='bar')"
      ],
      "execution_count": 7,
      "outputs": [
        {
          "output_type": "execute_result",
          "data": {
            "text/plain": [
              "<matplotlib.axes._subplots.AxesSubplot at 0x7fedac932e10>"
            ]
          },
          "metadata": {
            "tags": []
          },
          "execution_count": 7
        },
        {
          "output_type": "display_data",
          "data": {
            "image/png": "[encoded data removed]",
            "text/plain": [
              "<Figure size 432x288 with 1 Axes>"
            ]
          },
          "metadata": {
            "tags": [],
            "needs_background": "light"
          }
        }
      ]
    },
    {
      "cell_type": "markdown",
      "metadata": {
        "id": "tRZeB0qgaqeV"
      },
      "source": [
        "Word Clouds"
      ]
    },
    {
      "cell_type": "markdown",
      "metadata": {
        "id": "e1NSFUZeatPv"
      },
      "source": [
        "Here let's check the most used words for both the moods."
      ]
    },
    {
      "cell_type": "code",
      "metadata": {
        "id": "zrf-Rqivap5s"
      },
      "source": [
        ""
      ],
      "execution_count": null,
      "outputs": []
    },
    {
      "cell_type": "code",
      "metadata": {
        "id": "bWIbziJxaqBM"
      },
      "source": [
        ""
      ],
      "execution_count": null,
      "outputs": []
    },
    {
      "cell_type": "markdown",
      "metadata": {
        "id": "WL-Sj4dPwGbU"
      },
      "source": [
        "# Data Preparation"
      ]
    },
    {
      "cell_type": "code",
      "metadata": {
        "colab": {
          "base_uri": "https://localhost:8080/"
        },
        "id": "UZwdyA3BwK_i",
        "outputId": "4abe15cf-873c-4305-8c27-b6adba316f20"
      },
      "source": [
        "df_total = pd.concat([df_train,df_valid])\n",
        "df_total = df_total.sort_values('mood')\n",
        "len(df_total)"
      ],
      "execution_count": 8,
      "outputs": [
        {
          "output_type": "execute_result",
          "data": {
            "text/plain": [
              "1200"
            ]
          },
          "metadata": {
            "tags": []
          },
          "execution_count": 8
        }
      ]
    },
    {
      "cell_type": "code",
      "metadata": {
        "id": "4pFV97EQJlEC"
      },
      "source": [
        "#df_total.head(10)"
      ],
      "execution_count": 9,
      "outputs": []
    },
    {
      "cell_type": "code",
      "metadata": {
        "colab": {
          "base_uri": "https://localhost:8080/"
        },
        "id": "uq_dkP4awLet",
        "outputId": "4947ff76-ed5b-4193-8be4-aae039c3a359"
      },
      "source": [
        "# splitting dataframe by groups \n",
        "# grouping by particular dataframe column \n",
        "grouped = df_total.groupby(df_total.mood) \n",
        "\n",
        "data_happy = grouped.get_group(\"happy\")\n",
        "data_sad = grouped.get_group(\"sad\")\n",
        "len(data_happy) , len(data_sad)"
      ],
      "execution_count": 10,
      "outputs": [
        {
          "output_type": "execute_result",
          "data": {
            "text/plain": [
              "(551, 649)"
            ]
          },
          "metadata": {
            "tags": []
          },
          "execution_count": 10
        }
      ]
    },
    {
      "cell_type": "markdown",
      "metadata": {
        "id": "AR-YafG0LDxw"
      },
      "source": [
        "Thus, we have split the entire dataset as \"HAPPY\" lyrics and 'SAD\" lyrics."
      ]
    },
    {
      "cell_type": "code",
      "metadata": {
        "id": "eXzbJkOkwLlb",
        "colab": {
          "base_uri": "https://localhost:8080/",
          "height": 188
        },
        "outputId": "e183dd74-b6d0-408f-a329-e78da3ec0454"
      },
      "source": [
        "data_happy[\"lyrics\"][10]"
      ],
      "execution_count": 11,
      "outputs": [
        {
          "output_type": "execute_result",
          "data": {
            "application/vnd.google.colaboratory.intrinsic+json": {
              "type": "string"
            },
            "text/plain": [
              "\"Nobody knows it but you've got a secret smile,\\nAnd you use it only for me,\\nNobody knows it but you've got a secret smile,\\nAnd you use it only for me.\\n\\nSo use it and prove it,\\nRemove this whirling sadness,\\nI'm losing, I'm bluesing,\\nBut you can save me from madness.\\n\\nNobody knows it but you've got a secret smile,\\nAnd you use it only for me,\\nNobody knows it but you've got a secret smile,\\nAnd you use it only for me.\\n\\nSo save me I'm waiting,\\nI'm needing, hear me pleading,\\nAnd soothe me, improve me,\\nI'm grieving, I'm barely believing now, now.\\n\\nWhen you are flying around and around the world,\\nAnd I'm lying and lonely,\\nI know there's something sacred and free reserved,\\nAnd received by me only.\\n\\nNobody knows it but you've got a secret smile,\\nAnd you use it only for me,\\nNobody knows it but you've got a secret smile,\\nAnd you use it only for me.\\n\\nSo use it and prove it,\\nRemove this whirling sadness,\\nI'm losing, I'm bluesing,\\nBut you can save me from madness, now, now.\\n\\nWhen you are flying around and around the world,\\nAnd I'm lying and lonely,\\nI know there's something sacred and free reserved,\\nAnd received by me only.\\n\\nNobody knows it but you've got a secret smile,\\nAnd you use it only for me,\\nNobody knows it but you've got a secret smile.\\n\\nNobody knows it, nobody knows it, nobody knows it,\\nBut you've got a secret,\\nNobody knows it, nobody knows it, nobody knows it,\\nBut you've got a secret.\\n\\nNobody knows it, nobody knows it, nobody knows it,\\nBut you've got a secret,\\nNobody knows it, nobody knows it, nobody knows it,\\nBut you've got a secret.\\n\\nNobody knows it, nobody knows it...\""
            ]
          },
          "metadata": {
            "tags": []
          },
          "execution_count": 11
        }
      ]
    },
    {
      "cell_type": "code",
      "metadata": {
        "id": "7bzprCpcRTJy"
      },
      "source": [
        ""
      ],
      "execution_count": null,
      "outputs": []
    },
    {
      "cell_type": "code",
      "metadata": {
        "id": "04VmJ_-sYFXX"
      },
      "source": [
        ""
      ],
      "execution_count": null,
      "outputs": []
    },
    {
      "cell_type": "markdown",
      "metadata": {
        "id": "sRtXcSSyYJGA"
      },
      "source": [
        "#Data Cleaning"
      ]
    },
    {
      "cell_type": "code",
      "metadata": {
        "id": "goWKhgNMZZBf"
      },
      "source": [
        "import re\n",
        "import string"
      ],
      "execution_count": 12,
      "outputs": []
    },
    {
      "cell_type": "markdown",
      "metadata": {
        "id": "MjkueQ-oYN2j"
      },
      "source": [
        "Resolving contractions"
      ]
    },
    {
      "cell_type": "code",
      "metadata": {
        "id": "cIk0XrryYFkK"
      },
      "source": [
        "\n",
        "# Dictionary of English Contractions\n",
        "contractions_dict = { \"ain't\": \"are not\",\"'s\":\" is\",\"aren't\": \"are not\",\n",
        "                     \"can't\": \"cannot\",\"can't've\": \"cannot have\",\n",
        "                     \"'cause\": \"because\",\"could've\": \"could have\",\"couldn't\": \"could not\",\n",
        "                     \"couldn't've\": \"could not have\", \"didn't\": \"did not\",\"doesn't\": \"does not\",\n",
        "                     \"don't\": \"do not\",\"hadn't\": \"had not\",\"hadn't've\": \"had not have\",\n",
        "                     \"hasn't\": \"has not\",\"haven't\": \"have not\",\"he'd\": \"he would\",\n",
        "                     \"he'd've\": \"he would have\",\"he'll\": \"he will\", \"he'll've\": \"he will have\",\n",
        "                     \"how'd\": \"how did\",\"how'd'y\": \"how do you\",\"how'll\": \"how will\",\n",
        "                     \"I'd\": \"I would\", \"I'd've\": \"I would have\",\"I'll\": \"I will\",\n",
        "                     \"I'll've\": \"I will have\",\"I'm\": \"I am\",\"I've\": \"I have\", \"isn't\": \"is not\",\n",
        "                     \"it'd\": \"it would\",\"it'd've\": \"it would have\",\"it'll\": \"it will\",\n",
        "                     \"it'll've\": \"it will have\", \"let's\": \"let us\",\"ma'am\": \"madam\",\n",
        "                     \"mayn't\": \"may not\",\"might've\": \"might have\",\"mightn't\": \"might not\", \n",
        "                     \"mightn't've\": \"might not have\",\"must've\": \"must have\",\"mustn't\": \"must not\",\n",
        "                     \"mustn't've\": \"must not have\", \"needn't\": \"need not\",\n",
        "                     \"needn't've\": \"need not have\",\"o'clock\": \"of the clock\",\"oughtn't\": \"ought not\",\n",
        "                     \"oughtn't've\": \"ought not have\",\"shan't\": \"shall not\",\"sha'n't\": \"shall not\",\n",
        "                     \"shan't've\": \"shall not have\",\"she'd\": \"she would\",\"she'd've\": \"she would have\",\n",
        "                     \"she'll\": \"she will\", \"she'll've\": \"she will have\",\"should've\": \"should have\",\n",
        "                     \"shouldn't\": \"should not\", \"shouldn't've\": \"should not have\",\"so've\": \"so have\",\n",
        "                     \"that'd\": \"that would\",\"that'd've\": \"that would have\", \"there'd\": \"there would\",\n",
        "                     \"there'd've\": \"there would have\", \"they'd\": \"they would\",\n",
        "                     \"they'd've\": \"they would have\",\"they'll\": \"they will\",\n",
        "                     \"they'll've\": \"they will have\", \"they're\": \"they are\",\"they've\": \"they have\",\n",
        "                     \"to've\": \"to have\",\"wasn't\": \"was not\",\"we'd\": \"we would\",\n",
        "                     \"we'd've\": \"we would have\",\"we'll\": \"we will\",\"we'll've\": \"we will have\",\n",
        "                     \"we're\": \"we are\",\"we've\": \"we have\", \"weren't\": \"were not\",\"what'll\": \"what will\",\n",
        "                     \"what'll've\": \"what will have\",\"what're\": \"what are\", \"what've\": \"what have\",\n",
        "                     \"when've\": \"when have\",\"where'd\": \"where did\", \"where've\": \"where have\",\n",
        "                     \"who'll\": \"who will\",\"who'll've\": \"who will have\",\"who've\": \"who have\",\n",
        "                     \"why've\": \"why have\",\"will've\": \"will have\",\"won't\": \"will not\",\n",
        "                     \"won't've\": \"will not have\", \"would've\": \"would have\",\"wouldn't\": \"would not\",\n",
        "                     \"wouldn't've\": \"would not have\",\"y'all\": \"you all\", \"y'all'd\": \"you all would\",\n",
        "                     \"y'all'd've\": \"you all would have\",\"y'all're\": \"you all are\",\n",
        "                     \"y'all've\": \"you all have\", \"you'd\": \"you would\",\"you'd've\": \"you would have\",\n",
        "                     \"you'll\": \"you will\",\"you'll've\": \"you will have\", \"you're\": \"you are\",\n",
        "                     \"you've\": \"you have\"}\n",
        "\n",
        "# Regular expression for finding contractions\n",
        "contractions_re=re.compile('(%s)' % '|'.join(contractions_dict.keys()))\n",
        "\n",
        "# Function for expanding contractions\n",
        "def expand_contractions(text,contractions_dict=contractions_dict):\n",
        "  def replace(match):\n",
        "    return contractions_dict[match.group(0)]\n",
        "  return contractions_re.sub(replace, text)\n",
        "\n"
      ],
      "execution_count": 13,
      "outputs": []
    },
    {
      "cell_type": "code",
      "metadata": {
        "colab": {
          "base_uri": "https://localhost:8080/"
        },
        "id": "0r6ksZ3SYFsj",
        "outputId": "1b22e04a-9c04-4fdd-bec4-0e0a5bb72f85"
      },
      "source": [
        "def clean_data(df_new,column):\n",
        "  # Expanding Contractions in the reviews\n",
        "  df_new[column]=df_new[column].apply(lambda x:expand_contractions(x))\n",
        "  print('Contractions expanded !')\n",
        "  #df_new['text']=df_new['text'].apply(lambda x: x.lower())\n",
        "  df_new[column]=df_new[column].apply(lambda x: re.sub('\\w*\\d\\w*','', x))\n",
        "  print('Escape Characters Removed !')\n",
        "  #Removing Punctuations\n",
        "  df_new[column]=df_new[column].apply(lambda x: re.sub('[%s]' % re.escape(string.punctuation), '', x))\n",
        "  print('Punctuations Removed !')\n",
        "  #Removing extra spaces\n",
        "  df_new[column]=df_new[column].apply(lambda x: re.sub(' +',' ',x))\n",
        "  print('Extra Spaces Removed !')\n",
        "\n",
        "  return df_new\n",
        "\n",
        "print('Happy:')\n",
        "data_happy = clean_data(data_happy,'lyrics')\n",
        "print('Sad:')\n",
        "data_sad = clean_data(data_sad,'lyrics')"
      ],
      "execution_count": 14,
      "outputs": [
        {
          "output_type": "stream",
          "text": [
            "Happy:\n",
            "Contractions expanded !\n",
            "Escape Characters Removed !\n",
            "Punctuations Removed !\n",
            "Extra Spaces Removed !\n",
            "Sad:\n",
            "Contractions expanded !\n",
            "Escape Characters Removed !\n",
            "Punctuations Removed !\n",
            "Extra Spaces Removed !\n"
          ],
          "name": "stdout"
        }
      ]
    },
    {
      "cell_type": "markdown",
      "metadata": {
        "id": "8DvuF-43Z638"
      },
      "source": [
        "# Tokenization & Vectorization"
      ]
    },
    {
      "cell_type": "code",
      "metadata": {
        "id": "i0zU8zGDX8H0"
      },
      "source": [
        "import tensorflow as tf\n",
        "from tensorflow.keras.preprocessing.text import Tokenizer\n",
        "from tensorflow.keras.preprocessing.sequence import pad_sequences"
      ],
      "execution_count": 15,
      "outputs": []
    },
    {
      "cell_type": "code",
      "metadata": {
        "id": "JTpz55GSVC4J"
      },
      "source": [
        "happy_lyrics = ''\n",
        "sad_lyrics = ''\n",
        "\n",
        "for ind, row in data_happy.iterrows():\n",
        "  happy_lyrics = happy_lyrics + row['lyrics'] + '\\n'\n",
        "\n",
        "for ind, row in data_sad.iterrows():\n",
        "  sad_lyrics = sad_lyrics + row['lyrics'] + '\\n'\n"
      ],
      "execution_count": 16,
      "outputs": []
    },
    {
      "cell_type": "code",
      "metadata": {
        "id": "9zsb5VisWOzS",
        "colab": {
          "base_uri": "https://localhost:8080/"
        },
        "outputId": "a23c255b-65f2-43dd-ba27-50c7dc69c3d1"
      },
      "source": [
        "# Create the Corpus\n",
        "corpus_happy = happy_lyrics.lower().split(\"\\n\")\n",
        "corpus_sad = sad_lyrics.lower().split(\"\\n\")\n",
        "\n",
        "#Remove Null Entries and Spaces\n",
        "corpus_happy = list(filter(str.strip, corpus_happy))\n",
        "corpus_sad = list(filter(str.strip, corpus_sad))\n",
        "\n",
        "len(corpus_happy) , len(corpus_sad)\n",
        "\n"
      ],
      "execution_count": 17,
      "outputs": [
        {
          "output_type": "execute_result",
          "data": {
            "text/plain": [
              "(21312, 23850)"
            ]
          },
          "metadata": {
            "tags": []
          },
          "execution_count": 17
        }
      ]
    },
    {
      "cell_type": "code",
      "metadata": {
        "colab": {
          "base_uri": "https://localhost:8080/"
        },
        "id": "u_N0Mk9T0HJi",
        "outputId": "e697120a-2250-4f20-b250-f8847e647eb3"
      },
      "source": [
        "#Remove duplicate entries\n",
        "corpus_happy = list(set(corpus_happy))\n",
        "corpus_sad = list(set(corpus_sad))\n",
        "\n",
        "#Reduce the dataset\n",
        "corpus_happy = corpus_happy[:5000]\n",
        "len(corpus_happy) , len(corpus_sad)"
      ],
      "execution_count": 62,
      "outputs": [
        {
          "output_type": "execute_result",
          "data": {
            "text/plain": [
              "(5000, 17344)"
            ]
          },
          "metadata": {
            "tags": []
          },
          "execution_count": 62
        }
      ]
    },
    {
      "cell_type": "code",
      "metadata": {
        "colab": {
          "base_uri": "https://localhost:8080/"
        },
        "id": "DF4k7tc0aA7J",
        "outputId": "7a78d0aa-d0f4-4fd3-fc1b-45cb354d34d4"
      },
      "source": [
        "#Tokenize the Tokens\n",
        "\n",
        "tokenizer_happy = Tokenizer()\n",
        "tokenizer_sad = Tokenizer()\n",
        "\n",
        "tokenizer_happy.fit_on_texts(corpus_happy)\n",
        "total_words_h = len(tokenizer_happy.word_index) + 1\n",
        "\n",
        "tokenizer_sad.fit_on_texts(corpus_sad)\n",
        "total_words_s = len(tokenizer_sad.word_index) + 1\n",
        "\n",
        "print('Happy :')\n",
        "#print(tokenizer_happy.word_index)\n",
        "print(total_words_h)\n",
        "print()\n",
        "print()\n",
        "print('Sad :')\n",
        "#print(tokenizer_sad.word_index)\n",
        "print(total_words_s)"
      ],
      "execution_count": 79,
      "outputs": [
        {
          "output_type": "stream",
          "text": [
            "Happy :\n",
            "4439\n",
            "\n",
            "\n",
            "Sad :\n",
            "9797\n"
          ],
          "name": "stdout"
        }
      ]
    },
    {
      "cell_type": "code",
      "metadata": {
        "id": "99UQLGqWYks7",
        "colab": {
          "base_uri": "https://localhost:8080/"
        },
        "outputId": "0e3ff6e3-8ff7-4d51-d01e-057bb10bbf92"
      },
      "source": [
        "total_words_h"
      ],
      "execution_count": 64,
      "outputs": [
        {
          "output_type": "execute_result",
          "data": {
            "text/plain": [
              "4439"
            ]
          },
          "metadata": {
            "tags": []
          },
          "execution_count": 64
        }
      ]
    },
    {
      "cell_type": "markdown",
      "metadata": {
        "id": "bTDQLPVibCtN"
      },
      "source": [
        "**Turn the Sentences into vectors**"
      ]
    },
    {
      "cell_type": "code",
      "metadata": {
        "colab": {
          "base_uri": "https://localhost:8080/"
        },
        "id": "7jpswmgaYk27",
        "outputId": "7ad5fbe4-35e7-4545-d672-ff5bbff0d2b0"
      },
      "source": [
        "def sentences_to_vec(tokenizer, corpus):\n",
        "\n",
        "  input_sequences = []\n",
        "  total_words = len(tokenizer.word_index) + 1\n",
        "  for line in corpus:\n",
        "    token_list = tokenizer.texts_to_sequences([line])[0]\n",
        "    for i in range(1, len(token_list)):\n",
        "      n_gram_sequence = token_list[:i+1]\n",
        "      input_sequences.append(n_gram_sequence)\n",
        "\n",
        "  # pad sequences \n",
        "  max_sequence_len = max([len(x) for x in input_sequences])\n",
        "  input_sequences = np.array(pad_sequences(input_sequences, maxlen=max_sequence_len, padding='pre'))\n",
        "\n",
        "  # create predictors and label\n",
        "  xs, labels = input_sequences[:,:-1],input_sequences[:,-1]\n",
        "\n",
        "  ys = tf.keras.utils.to_categorical(labels, num_classes=total_words)\n",
        "\n",
        "  return (xs,ys,max_sequence_len)\n",
        "\n",
        "\n",
        "\n",
        "xs_happy, ys_happy,max_sequence_len_h = sentences_to_vec(tokenizer_happy, corpus_happy)\n",
        "print(\"Done - Happy !\")\n",
        "#xs_sad, ys_sad = sentences_to_vec(tokenizer_sad, corpus_sad)\n",
        "#print(\"Done - Sad !\")"
      ],
      "execution_count": 65,
      "outputs": [
        {
          "output_type": "stream",
          "text": [
            "Done - Happy !\n"
          ],
          "name": "stdout"
        }
      ]
    },
    {
      "cell_type": "code",
      "metadata": {
        "colab": {
          "base_uri": "https://localhost:8080/"
        },
        "id": "eq3DI9PWIl8k",
        "outputId": "78101d7a-fa85-4e8a-a54f-1e001c07f5c7"
      },
      "source": [
        "for i in ys_happy[8]:\n",
        "  if i != 0:\n",
        "    print(i)"
      ],
      "execution_count": 26,
      "outputs": [
        {
          "output_type": "stream",
          "text": [
            "1.0\n"
          ],
          "name": "stdout"
        }
      ]
    },
    {
      "cell_type": "code",
      "metadata": {
        "id": "hd2gwe38bRax",
        "colab": {
          "base_uri": "https://localhost:8080/"
        },
        "outputId": "1b3c1376-249c-4f60-b561-600ef0cd884e"
      },
      "source": [
        "len(xs_happy)"
      ],
      "execution_count": 66,
      "outputs": [
        {
          "output_type": "execute_result",
          "data": {
            "text/plain": [
              "30211"
            ]
          },
          "metadata": {
            "tags": []
          },
          "execution_count": 66
        }
      ]
    },
    {
      "cell_type": "markdown",
      "metadata": {
        "id": "kv2MLHbWwLuo"
      },
      "source": [
        "# Model"
      ]
    },
    {
      "cell_type": "code",
      "metadata": {
        "id": "0tAzsUg3dzGz"
      },
      "source": [
        "from tensorflow.keras.layers import Embedding, LSTM, Dense, Bidirectional\n",
        "from tensorflow.keras.models import Sequential\n",
        "from tensorflow.keras.optimizers import Adam"
      ],
      "execution_count": 67,
      "outputs": []
    },
    {
      "cell_type": "code",
      "metadata": {
        "id": "AF669jMOdHg0"
      },
      "source": [
        "#Predict Plot \n",
        "\n",
        "def plot_graphs(history, string):\n",
        "  plt.plot(history.history[string])\n",
        "  plt.xlabel(\"Epochs\")\n",
        "  plt.ylabel(string)\n",
        "  plt.show()"
      ],
      "execution_count": 68,
      "outputs": []
    },
    {
      "cell_type": "code",
      "metadata": {
        "id": "-_94nDEbdnh5"
      },
      "source": [
        "#Base Model\n",
        "def base_model(total_words,max_sequence_len):\n",
        "\n",
        "  model = Sequential()\n",
        "  model.add(Embedding(total_words, 200, input_length=max_sequence_len-1))\n",
        "  model.add(Bidirectional(LSTM(512)))#,return_sequences = True)))\n",
        "  #model.add(tf.keras.layers.Dropout(0.2))\n",
        "  #model.add(Bidirectional(LSTM(512)))\n",
        "  #model.add(Bidirectional(LSTM(150))) #Added Later\n",
        "  #model.add(Bidirectional(LSTM(150))) #Added Later\n",
        "  model.add(Dense(total_words, activation='softmax'))\n",
        "\n",
        "  #Loss Function & Optimizer\n",
        "  #loss_func = tf.losses.SparseCategoricalCrossentropy(from_logits=True)\n",
        "  loss_func = tf.keras.losses.CategoricalCrossentropy(from_logits=False)\n",
        "  opt = Adam(lr=0.01)\n",
        "  model.compile(\n",
        "        loss= loss_func, \n",
        "        optimizer = opt,\n",
        "        metrics=['accuracy'])\n",
        "  #earlystop = EarlyStopping(monitor='val_loss', min_delta=0, patience=5, verbose=0, mode='auto')\n",
        "  print(model.summary())\n",
        "  return(model)"
      ],
      "execution_count": 72,
      "outputs": []
    },
    {
      "cell_type": "code",
      "metadata": {
        "id": "GTEIl15xES6K"
      },
      "source": [
        ""
      ],
      "execution_count": 39,
      "outputs": []
    },
    {
      "cell_type": "markdown",
      "metadata": {
        "id": "1jM0FkSwc80u"
      },
      "source": [
        "Prediction - Happy Lyrics"
      ]
    },
    {
      "cell_type": "code",
      "metadata": {
        "id": "GPNFYfFKwN3M",
        "colab": {
          "base_uri": "https://localhost:8080/"
        },
        "outputId": "1c3aa20d-1f61-482a-c62f-8c07ba6d72b9"
      },
      "source": [
        "base_model_h = base_model(total_words_h,max_sequence_len_h)"
      ],
      "execution_count": 73,
      "outputs": [
        {
          "output_type": "stream",
          "text": [
            "Model: \"sequential_12\"\n",
            "_________________________________________________________________\n",
            "Layer (type)                 Output Shape              Param #   \n",
            "=================================================================\n",
            "embedding_12 (Embedding)     (None, 134, 200)          887800    \n",
            "_________________________________________________________________\n",
            "bidirectional_20 (Bidirectio (None, 1024)              2920448   \n",
            "_________________________________________________________________\n",
            "dense_12 (Dense)             (None, 4439)              4549975   \n",
            "=================================================================\n",
            "Total params: 8,358,223\n",
            "Trainable params: 8,358,223\n",
            "Non-trainable params: 0\n",
            "_________________________________________________________________\n",
            "None\n"
          ],
          "name": "stdout"
        }
      ]
    },
    {
      "cell_type": "code",
      "metadata": {
        "colab": {
          "base_uri": "https://localhost:8080/"
        },
        "id": "ShbHCsD-nrhp",
        "outputId": "e31cd90f-d851-479c-ef06-b4d1d196278a"
      },
      "source": [
        "#Train the Model\n",
        "history_base = base_model_h.fit(xs_happy,\n",
        "         ys_happy,\n",
        "         batch_size=128,\n",
        "         epochs=20,\n",
        "         verbose=1)"
      ],
      "execution_count": 74,
      "outputs": [
        {
          "output_type": "stream",
          "text": [
            "Epoch 1/20\n",
            "237/237 [==============================] - 65s 260ms/step - loss: 7.5879 - accuracy: 0.0355\n",
            "Epoch 2/20\n",
            "237/237 [==============================] - 62s 260ms/step - loss: 5.8557 - accuracy: 0.1099\n",
            "Epoch 3/20\n",
            "237/237 [==============================] - 61s 259ms/step - loss: 4.6296 - accuracy: 0.1703\n",
            "Epoch 4/20\n",
            "237/237 [==============================] - 61s 259ms/step - loss: 3.7733 - accuracy: 0.2457\n",
            "Epoch 5/20\n",
            "237/237 [==============================] - 61s 259ms/step - loss: 3.0154 - accuracy: 0.3422\n",
            "Epoch 6/20\n",
            "237/237 [==============================] - 62s 260ms/step - loss: 2.4509 - accuracy: 0.4346\n",
            "Epoch 7/20\n",
            "237/237 [==============================] - 61s 259ms/step - loss: 2.0312 - accuracy: 0.5172\n",
            "Epoch 8/20\n",
            "237/237 [==============================] - 62s 261ms/step - loss: 1.7414 - accuracy: 0.5795\n",
            "Epoch 9/20\n",
            "237/237 [==============================] - 61s 259ms/step - loss: 1.5415 - accuracy: 0.6197\n",
            "Epoch 10/20\n",
            "237/237 [==============================] - 61s 259ms/step - loss: 1.3390 - accuracy: 0.6724\n",
            "Epoch 11/20\n",
            "237/237 [==============================] - 61s 259ms/step - loss: 1.2930 - accuracy: 0.6758\n",
            "Epoch 12/20\n",
            "237/237 [==============================] - 62s 260ms/step - loss: 1.2948 - accuracy: 0.6761\n",
            "Epoch 13/20\n",
            "237/237 [==============================] - 61s 259ms/step - loss: 1.4069 - accuracy: 0.6482\n",
            "Epoch 14/20\n",
            "237/237 [==============================] - 61s 259ms/step - loss: 1.3163 - accuracy: 0.6669\n",
            "Epoch 15/20\n",
            "237/237 [==============================] - 61s 259ms/step - loss: 1.2767 - accuracy: 0.6754\n",
            "Epoch 16/20\n",
            "237/237 [==============================] - 61s 259ms/step - loss: 1.3947 - accuracy: 0.6450\n",
            "Epoch 17/20\n",
            "237/237 [==============================] - 61s 258ms/step - loss: 1.2937 - accuracy: 0.6684\n",
            "Epoch 18/20\n",
            "237/237 [==============================] - 61s 259ms/step - loss: 1.1714 - accuracy: 0.7014\n",
            "Epoch 19/20\n",
            "237/237 [==============================] - 61s 258ms/step - loss: 1.0767 - accuracy: 0.7250\n",
            "Epoch 20/20\n",
            "237/237 [==============================] - 62s 260ms/step - loss: 1.0447 - accuracy: 0.7332\n"
          ],
          "name": "stdout"
        }
      ]
    },
    {
      "cell_type": "code",
      "metadata": {
        "id": "EyDEe_YzwOcp",
        "colab": {
          "base_uri": "https://localhost:8080/",
          "height": 279
        },
        "outputId": "c8f020fe-fd31-4b64-d900-cc2166b18fde"
      },
      "source": [
        "plot_graphs(history_base, 'accuracy')"
      ],
      "execution_count": 75,
      "outputs": [
        {
          "output_type": "display_data",
          "data": {
            "image/png": "[encoded data removed]",
            "text/plain": [
              "<Figure size 432x288 with 1 Axes>"
            ]
          },
          "metadata": {
            "tags": [],
            "needs_background": "light"
          }
        }
      ]
    },
    {
      "cell_type": "code",
      "metadata": {
        "id": "7ue-THLiwOjH"
      },
      "source": [
        ""
      ],
      "execution_count": null,
      "outputs": []
    },
    {
      "cell_type": "markdown",
      "metadata": {
        "id": "8VUATUDffy5P"
      },
      "source": [
        "Prediction - Sad Lyrics"
      ]
    },
    {
      "cell_type": "code",
      "metadata": {
        "id": "vgjko9ChfzsH"
      },
      "source": [
        "base_model_h,history_base = base_model(xs_happy,ys_happy)"
      ],
      "execution_count": null,
      "outputs": []
    },
    {
      "cell_type": "code",
      "metadata": {
        "id": "IeH6ssbEf7kv"
      },
      "source": [
        "plot_graphs(history_base, 'accuracy')"
      ],
      "execution_count": null,
      "outputs": []
    },
    {
      "cell_type": "markdown",
      "metadata": {
        "id": "s_N67GkxwOw3"
      },
      "source": [
        "# Results & Evaluation"
      ]
    },
    {
      "cell_type": "code",
      "metadata": {
        "id": "7Auq0ioqxME-"
      },
      "source": [
        "def predict_words(seed_text,next_words,tokenizer,max_sequence_len,model):\n",
        "\n",
        "  for _ in range(next_words):\n",
        "\t  token_list = tokenizer.texts_to_sequences([seed_text])[0]\n",
        "\t  token_list = pad_sequences([token_list], maxlen=max_sequence_len-1, padding='pre')\n",
        "\t  predicted = model.predict_classes(token_list, verbose=0)\n",
        "\t  output_word = \"\"\n",
        "\t  for word, index in tokenizer.word_index.items():\n",
        "\t\t  if index == predicted:\n",
        "\t\t  \toutput_word = word\n",
        "\t\t  \tbreak\n",
        "\t  seed_text += \" \" + output_word\n",
        "  print(seed_text)"
      ],
      "execution_count": 76,
      "outputs": []
    },
    {
      "cell_type": "code",
      "metadata": {
        "id": "jFO8-z5YwQ3S",
        "colab": {
          "base_uri": "https://localhost:8080/"
        },
        "outputId": "aac076d4-9517-4fe2-82c4-1c6e581b81e8"
      },
      "source": [
        "seed_text = \"I am so happy\"\n",
        "next_words = 100\n",
        "  \n",
        "predict_words(seed_text,next_words,tokenizer_happy,max_sequence_len_h,base_model_h)"
      ],
      "execution_count": 77,
      "outputs": [
        {
          "output_type": "stream",
          "text": [
            "/usr/local/lib/python3.7/dist-packages/tensorflow/python/keras/engine/sequential.py:450: UserWarning: `model.predict_classes()` is deprecated and will be removed after 2021-01-01. Please use instead:* `np.argmax(model.predict(x), axis=-1)`,   if your model does multi-class classification   (e.g. if it uses a `softmax` last-layer activation).* `(model.predict(x) > 0.5).astype(\"int32\")`,   if your model does binary classification   (e.g. if it uses a `sigmoid` last-layer activation).\n",
            "  warnings.warn('`model.predict_classes()` is deprecated and '\n"
          ],
          "name": "stderr"
        },
        {
          "output_type": "stream",
          "text": [
            "I am so happy here is shining can get a little dark clouds a body and he likes my hair done town yeah wide world and american dream yeah lots of death sweet rock she this meant fight fight fight fight fight fight fight fight fight a rock cause james right n here alone him with you do is all the reason for you may and top down down down down to the wire even through his mind to advance tell me how you are not got a new pony she knows how you are miles four crazy friends she must be deaf to\n"
          ],
          "name": "stdout"
        }
      ]
    },
    {
      "cell_type": "code",
      "metadata": {
        "colab": {
          "base_uri": "https://localhost:8080/"
        },
        "id": "kQ8rEcKu1pfb",
        "outputId": "619eea04-b0d4-42ef-99c1-8d8e8c1c31f1"
      },
      "source": [
        "seed_text = \"My country is\"\n",
        "next_words = 100\n",
        "  \n",
        "predict_words(seed_text,next_words,tokenizer_happy,max_sequence_len_h,base_model_h)"
      ],
      "execution_count": 78,
      "outputs": [
        {
          "output_type": "stream",
          "text": [
            "/usr/local/lib/python3.7/dist-packages/tensorflow/python/keras/engine/sequential.py:450: UserWarning: `model.predict_classes()` is deprecated and will be removed after 2021-01-01. Please use instead:* `np.argmax(model.predict(x), axis=-1)`,   if your model does multi-class classification   (e.g. if it uses a `softmax` last-layer activation).* `(model.predict(x) > 0.5).astype(\"int32\")`,   if your model does binary classification   (e.g. if it uses a `sigmoid` last-layer activation).\n",
            "  warnings.warn('`model.predict_classes()` is deprecated and '\n"
          ],
          "name": "stderr"
        },
        {
          "output_type": "stream",
          "text": [
            "My country is still the strong got a wall of a bottle at a local bar with my jaw was open up with talk and the back where we should give it all the love and love felt whole again mattress mattress mattress mattress mattress mattress mattress mattress mattress mattress mattress mattress mattress mattress mattress mattress love long to mind it is so much it is official i have waited so long you have waited so long you have waited so long you have waited so long you have waited so long you have waited so long you have waited so long you\n"
          ],
          "name": "stdout"
        }
      ]
    },
    {
      "cell_type": "code",
      "metadata": {
        "colab": {
          "base_uri": "https://localhost:8080/"
        },
        "id": "x0pjGm2vI1p8",
        "outputId": "b3130983-e176-4010-f8e8-f8b05ed50445"
      },
      "source": [
        "seed_text = \"India is the best cricket team the players are very good and\"\n",
        "next_words = 100\n",
        "  \n",
        "predict_words(seed_text,next_words,tokenizer_happy,max_sequence_len_h,base_model_h)"
      ],
      "execution_count": null,
      "outputs": [
        {
          "output_type": "stream",
          "text": [
            "/usr/local/lib/python3.7/dist-packages/tensorflow/python/keras/engine/sequential.py:450: UserWarning: `model.predict_classes()` is deprecated and will be removed after 2021-01-01. Please use instead:* `np.argmax(model.predict(x), axis=-1)`,   if your model does multi-class classification   (e.g. if it uses a `softmax` last-layer activation).* `(model.predict(x) > 0.5).astype(\"int32\")`,   if your model does binary classification   (e.g. if it uses a `sigmoid` last-layer activation).\n",
            "  warnings.warn('`model.predict_classes()` is deprecated and '\n"
          ],
          "name": "stderr"
        },
        {
          "output_type": "stream",
          "text": [
            "India is the best cricket team the players are very good and i am running from first more time to be careful the lightman cup if you know you are not know you are not know you are not know you are not know you are not know you are not know you are not know you are not know you are not know you are not know you are not know you are not know you are not know you are not know you are not know you are not know you are not know you are not know you are not know you are not know you are not know\n"
          ],
          "name": "stdout"
        }
      ]
    },
    {
      "cell_type": "code",
      "metadata": {
        "id": "w2Cakec5I1xU"
      },
      "source": [
        ""
      ],
      "execution_count": null,
      "outputs": []
    },
    {
      "cell_type": "code",
      "metadata": {
        "id": "gLeNpFJEI148"
      },
      "source": [
        ""
      ],
      "execution_count": null,
      "outputs": []
    }
  ]
}